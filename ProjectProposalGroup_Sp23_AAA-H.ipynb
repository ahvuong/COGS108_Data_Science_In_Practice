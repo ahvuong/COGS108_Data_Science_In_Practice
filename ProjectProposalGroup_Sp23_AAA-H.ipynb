{
 "cells": [
  {
   "cell_type": "markdown",
   "metadata": {},
   "source": [
    "# COGS 108 - Final Project Proposal"
   ]
  },
  {
   "attachments": {},
   "cell_type": "markdown",
   "metadata": {},
   "source": [
    "# Names\n",
    "\n",
    "- Anh Vuong\n",
    "- Anh Bach\n",
    "- Anh Pham\n",
    "- Huy Nguyen"
   ]
  },
  {
   "cell_type": "markdown",
   "metadata": {},
   "source": [
    "# Research Question"
   ]
  },
  {
   "attachments": {},
   "cell_type": "markdown",
   "metadata": {},
   "source": [
    "To what extent do mental health challenges impact female employees in the tech industry, and is their well-being influenced by the inclusivity and support provided by their organizations? Furthermore, are there reliable resources available to support the mental health of women in tech?\n"
   ]
  },
  {
   "cell_type": "markdown",
   "metadata": {},
   "source": [
    "## Background and Prior Work"
   ]
  },
  {
   "cell_type": "markdown",
   "metadata": {},
   "source": [
    "\n",
    "- Include a general introduction to your topic\n",
    "- Include explanation of what work has been done previously\n",
    "- Include citations or links to previous work\n",
    "\n",
    "This section will present the background and context of your topic and question in a few paragraphs. Include a general introduction to your topic and then describe what information you currently know about the topic after doing your initial research. Include references to other projects who have asked similar questions or approached similar problems. Explain what others have learned in their projects.\n",
    "\n",
    "Find some relevant prior work, and reference those sources, summarizing what each did and what they learned. Even if you think you have a totally novel question, find the most similar prior work that you can and discuss how it relates to your project.\n",
    "\n",
    "References can be research publications, but they need not be. Blogs, GitHub repositories, company websites, etc., are all viable references if they are relevant to your project. It must be clear which information comes from which references. (2-3 paragraphs, including at least 2 references)\n",
    "\n",
    " **Use inline citation through Markdown footnotes to specify which references support which statements** \n",
    "\n",
    "For example: After government genocide in the 20th century, real birds were replaced with surveillance drones designed to look just like birds[^lorenz]. \n",
    "Use a minimum of 2 or 3 citations, but we prefer more[^admonish]. You need enough to fully explain and back up important facts. \n",
    "\n",
    "[^lorenz]: Lorenz, T. (9 Dec 2021) Birds Aren’t Real, or Are They? Inside a Gen Z Conspiracy Theory. *The New York Times*. https://www.nytimes.com/2021/12/09/technology/birds-arent-real-gen-z-misinformation.html \n",
    "[^admonish]: Also refs should be important to the background, not some randomly chosen vaguely related stuff. Include a web link if possible in refs as above.\n"
   ]
  },
  {
   "cell_type": "markdown",
   "metadata": {},
   "source": [
    "# Hypothesis\n"
   ]
  },
  {
   "attachments": {},
   "cell_type": "markdown",
   "metadata": {},
   "source": [
    "It is believed that biases based on gender, stereotypes, and obstacles to career advancement are causing higher stress levels among women who work in the tech industry. On top of this, women in this field are also dealing with societal expectations and family responsibilities, making it even harder to balance work and personal life. The study suggests that companies in the tech industry that prioritize inclusivity may be able to improve the mental well-being of female employees."
   ]
  },
  {
   "cell_type": "markdown",
   "metadata": {},
   "source": [
    "# Data"
   ]
  },
  {
   "cell_type": "markdown",
   "metadata": {},
   "source": [
    "1. Explain what the **ideal** dataset you would want to answer this question. (This should include: What variables? How many observations? Who/what/how would these data be collected? How would these data be stored/organized?)\n",
    "1. Search for potential **real** datasets that could provide you with something useful for this project.  You do not have to find every piece of data you will use, but you do need to have demonstrated some idea that (a) this data is gettable and (b) that this data may be different from what your ideal is"
   ]
  },
  {
   "cell_type": "markdown",
   "metadata": {},
   "source": [
    "# Ethics & Privacy"
   ]
  },
  {
   "attachments": {},
   "cell_type": "markdown",
   "metadata": {},
   "source": [
    "In order to address ethic and privacy concerns, our group focused on using datasets that are publicly available online and our project is mainly for academic purposes. Our datasets are collected answers from anonymized survey without any sensitive or personally identifying information. The survey was fully voluntary and gave consent-based instructions about the use of gathered data.\n",
    "We believe that our datasets are unbiased and ethical because we mainly focus on analyzing a particular group to understand their unique experience, perspectives and the needs of the group without comparing to any other group in order to prevent any potential biased and false claim during our analysis. \n",
    "\n",
    "Our group makes sure there is no bias by aiming to collect and analyze publicly available data and datasets from trusted website for our project. In order to minimize biased based on the different amount of answers from different groups, we will choose a particular group to focus on instead of comparing between different groups because our datasets are voluntary surveys, the responses for each group might be unbalanced. However, our datasets do not exclude any particular populations or likely to reflect particular human biases in a way that could be a problem and the survey questions do not target any particular group or conduct in the way that will lead to a particular group, whether that's defined by sex, age, ethnicity, etc.\n",
    "\n",
    "To detect any biases before our analysis, we will examine the source and methodology of the data collection, and check if there are any gaps or inconsistencies in the data. We will also review the literature on the topic and compare our data with other relevant studies. During our analysis, we will use appropriate statistical methods and visualizations to explore the data and identify any outliers, trends, or patterns that may indicate bias. We will also test our hypotheses and assumptions using inferential statistics and hypothesis testing. After our analysis, we will evaluate our results and conclusions in light of the data limitations and ethical implications. We will also seek feedback from our peers and instructors on our project report and presentation, and address any questions or concerns they may have.\n",
    "\n",
    "To handle any issues we identified, we will document them clearly and transparently in our project report and presentation, and acknowledge the limitations and uncertainties of our analysis. We will also suggest ways to improve the data quality and reliability in future research, and discuss the potential implications and recommendations for policy and practice based on our findings."
   ]
  },
  {
   "cell_type": "markdown",
   "metadata": {},
   "source": [
    "# Team Expectations "
   ]
  },
  {
   "attachments": {},
   "cell_type": "markdown",
   "metadata": {},
   "source": [
    "\n",
    "By including each member’s name above and by adding their name to the submission, you are indicating that you have read the COGS108 Team Policies, accept your team’s expectations below, and have every intention to fulfill them. These expectations are for your team’s use and benefit — they won’t be graded for their details.\n",
    "\n",
    "* Our team expects to have a meeting every Sunday on Zoom to update and divide individual tasks for team members\n",
    "* Our team expects to communicate regularly and respectfully via Discord, and respond to messages within 24 hours.\n",
    "* Our team expects to complete the assigned tasks on time and with high quality, and notify the team in advance if there are any difficulties or delays.\n",
    "* Our team expects to share the work load fairly and evenly, and offer help and feedback to each other when needed.\n",
    "* Our team expects to respect each other's opinions and ideas, and resolve any conflicts or disagreements constructively and diplomatically.\n",
    "* Our team expects to adhere to the COGS108 Team Policies and academic integrity standards, and acknowledge each other's contributions in the project submission."
   ]
  },
  {
   "cell_type": "markdown",
   "metadata": {},
   "source": [
    "# Project Timeline Proposal"
   ]
  },
  {
   "attachments": {},
   "cell_type": "markdown",
   "metadata": {},
   "source": [
    "Specify your team's specific project timeline. An example timeline has been provided. Changes the dates, times, names, and details to fit your group's plan.\n",
    "\n",
    "If you think you will need any special resources or training outside what we have covered in COGS 108 to solve your problem, then your proposal should state these clearly. For example, if you have selected a problem that involves implementing multiple neural networks, please state this so we can make sure you know what you’re doing and so we can point you to resources you will need to implement your project. Note that you are not required to use outside methods.\n",
    "\n",
    "\n",
    "\n",
    "Here is a possible rewrite of the project timeline proposal in markdown based on the web search results:\n",
    "\n",
    "# COGS 108 - Final Project Proposal\n",
    "\n",
    "## Research Question\n",
    "\n",
    "What are the specific effects of mental health challenges faced by female employees in the tech industry, and do their organizations inclusivity and support their well-being? Do women in tech have trusted resources to support for their mental health?\n",
    "\n",
    "## Hypothesis\n",
    "\n",
    "Female employees in the tech industry report higher levels of stress due to gender-related biases, stereotypes, and career advancement barriers. Female employees in the tech industry face greater work-life imbalance due to societal expectations and caregiving responsibilities. Organizations that foster inclusivity in the tech industry can positively impact the mental well-being of female employees.\n",
    "\n",
    "## Ethics & Privacy\n",
    "\n",
    "\n",
    "\n",
    "\n",
    "## Project Timeline Proposal\n",
    "\n",
    "| Meeting Date | Meeting Time | Completed Before Meeting | Discuss at Meeting |\n",
    "| ------------ | ------------ | ------------------------ | ------------------ |\n",
    "| 4/30         | 12 PM        | Read & Think about COGS 108 expectations; brainstorm topics/questions | Determine best form of communication; Discuss and decide on final project topic; discuss hypothesis; begin background research |\n",
    "| 5/7          | 10 AM        | Do background research on topic; find relevant sources and datasets | Discuss ideal dataset(s) and ethics; draft project proposal |\n",
    "| 5/14         | 10 AM        | Edit, finalize, and submit proposal; Search for more datasets if needed | Discuss Wrangling and possible analytical approaches; Assign group members to lead each specific part |\n",
    "| 5/14         | 6 PM         | Import & Wrangle Data (Anh Vuong); EDA (Anh Bach) | Review/Edit wrangling/EDA; Discuss Analysis Plan |\n",
    "| 5/21         | 12 PM        | Finalize wrangling/EDA; Begin Analysis (Anh Pham; Huy Nguyen) | Discuss/edit Analysis; Complete project check-in |\n",
    "| 5/28         | 12 PM        | Complete analysis; Draft results/conclusion/discussion (Anh Vuong) | Discuss/edit full project |\n",
    "| 6/4          | Before 11:59 PM | NA                       | Turn in Final Project & Group Project Surveys |"
   ]
  },
  {
   "cell_type": "code",
   "execution_count": null,
   "metadata": {},
   "outputs": [],
   "source": []
  }
 ],
 "metadata": {
  "kernelspec": {
   "display_name": "Python 3",
   "language": "python",
   "name": "python3"
  },
  "language_info": {
   "codemirror_mode": {
    "name": "ipython",
    "version": 3
   },
   "file_extension": ".py",
   "mimetype": "text/x-python",
   "name": "python",
   "nbconvert_exporter": "python",
   "pygments_lexer": "ipython3",
   "version": "3.9.6"
  }
 },
 "nbformat": 4,
 "nbformat_minor": 2
}
