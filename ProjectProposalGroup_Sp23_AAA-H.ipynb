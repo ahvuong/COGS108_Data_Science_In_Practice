{
 "cells": [
  {
   "cell_type": "markdown",
   "metadata": {},
   "source": [
    "# COGS 108 - Final Project Proposal"
   ]
  },
  {
   "attachments": {},
   "cell_type": "markdown",
   "metadata": {},
   "source": [
    "# Names\n",
    "\n",
    "- Anh Vuong\n",
    "- Anh Bach\n",
    "- Anh Pham\n",
    "- Huy Nguyen"
   ]
  },
  {
   "cell_type": "markdown",
   "metadata": {},
   "source": [
    "# Research Question"
   ]
  },
  {
   "attachments": {},
   "cell_type": "markdown",
   "metadata": {},
   "source": [
    "To what extent do mental health challenges impact female employees in the tech industry, and how does their well-being related to the inclusivity and support provided by their organizations? Furthermore, are there reliable resources available to support the mental health of women in tech industry?\n"
   ]
  },
  {
   "cell_type": "markdown",
   "metadata": {},
   "source": [
    "## Background and Prior Work"
   ]
  },
  {
   "cell_type": "markdown",
   "metadata": {},
   "source": [
    "\n",
    "It is widely acknowledged that employees in tech companies often face a substantial workload, leading to heightened intensity in tech positions. The fast-paced and stressful work environment common in the technology sector can adversely affect for employees' mental health. It cannot be denied that women in the tech industry, in particular, confront significant challenges, including gender bias, workplace harassment, and a lack of representation in leadership roles. The importance of mental health in the workplace has gained attention in recent years, prompting numerous IT firms to take action to support the well-being of their staff members. It remains uncertain, nevertheless, if these initiatives will be sufficient to address the particular difficulties faced by women in technology.\n",
    "Therefore, as all members in our group are majoring in computer science and aiming to pursue careers in the technology field, we are interested in figuring out the well-being of the employee in this particular field. Additionally, due to the recent rise in mental illness in the U.S., especially during the COVID-19 pandemic, we believe that our project can shed light on the current state of employee health in tech companies, thereby, raising awareness for others.\n",
    "To dig into the question, we conducted some research to explore the health situation in the tech industry following the emergence of COVID-19. According to a report from AppDynamics, 8 out of 10 tech professionals indicated that their jobs have become more complex since the pandemic. In the same report, 89% of tech professionals reported that they feel immense pressure at work, and 84% struggled with switching off from work [^1]. However, the health situation is even more challenging for women in the tech industry when they are considered \"minorities\" in this field. An analysis from Alicen Ricard has pointed out that \"women have so much pressure to excel in these fields because they feel like they have to be better than the men to prove they’re \"worthy\" of being there. This kind of thinking leads to imposter syndrome. This feeling out of place also leads to stress."[^2].\n",
    "\n",
    "Sources:\n",
    "\n",
    "[^1]: Mentotribes, T. (9 July 2022) Mental Health - A Major Concern in the Tech Industry. *Linkedin*. https://www.linkedin.com/pulse/mental-health-major-concern-tech-industry-mentortribes/?trk=public_post-content_share-article \n",
    "\n",
    "[^2]: RICARD, ALICEN. (11 May 2018) Women in STEM and Mental Health. *Simon Fraser University*. https://www.sfu.ca/wwest/WWEST_blog/the-pressure-of-being-a-woman-in-stem-and-what-it-means-for-ment.html\n",
   ]
  },
  {
   "cell_type": "markdown",
   "metadata": {},
   "source": [
    "# Hypothesis\n"
   ]
  },
  {
   "attachments": {},
   "cell_type": "markdown",
   "metadata": {},
   "source": [
    "It is believed that biases based on gender, stereotypes, and obstacles to career advancement are causing higher stress levels among women who work in the tech industry. On top of this, women in this field are also dealing with societal expectations and family responsibilities, making it even harder to balance work and personal life. The study suggests that companies in the tech industry that prioritize inclusivity may be able to improve the mental well-being of female employees."
   ]
  },
  {
   "cell_type": "markdown",
   "metadata": {},
   "source": [
    "# Data"
   ]
  },
  {
   "cell_type": "markdown",
   "metadata": {},
   "source": [
    "1. Explain what the **ideal** dataset you would want to answer this question. (This should include: What variables? How many observations? Who/what/how would these data be collected? How would these data be stored/organized?)\n",
    "1. Search for potential **real** datasets that could provide you with something useful for this project.  You do not have to find every piece of data you will use, but you do need to have demonstrated some idea that (a) this data is gettable and (b) that this data may be different from what your ideal is"
   ]
  },
  {
   "cell_type": "markdown",
   "metadata": {},
   "source": [
    "# Ethics & Privacy"
   ]
  },
  {
   "attachments": {},
   "cell_type": "markdown",
   "metadata": {},
   "source": [
    "In order to address ethic and privacy concerns, our group focused on using datasets that are publicly available online and our project is mainly for academic purposes. Our datasets are collected answers from anonymized survey without any sensitive or personally identifying information. The survey was fully voluntary and gave consent-based instructions about the use of gathered data.\n",
    "We believe that our datasets are unbiased and ethical because we mainly focus on analyzing a particular group to understand their unique experience, perspectives and the needs of the group without comparing to any other group in order to prevent any potential biased and false claim during our analysis. \n",
    "\n",
    "Our group makes sure there is no bias by aiming to collect and analyze publicly available data and datasets from trusted website for our project. In order to minimize biased based on the different amount of answers from different groups, we will choose a particular group to focus on instead of comparing between different groups because our datasets are voluntary surveys, the responses for each group might be unbalanced. However, our datasets do not exclude any particular populations or likely to reflect particular human biases in a way that could be a problem and the survey questions do not target any particular group or conduct in the way that will lead to a particular group, whether that's defined by sex, age, ethnicity, etc.\n",
    "\n",
    "To detect any biases before our analysis, we will examine the source and methodology of the data collection, and check if there are any gaps or inconsistencies in the data. We will also review the literature on the topic and compare our data with other relevant studies. During our analysis, we will use appropriate statistical methods and visualizations to explore the data and identify any outliers, trends, or patterns that may indicate bias. We will also test our hypotheses and assumptions using inferential statistics and hypothesis testing. After our analysis, we will evaluate our results and conclusions in light of the data limitations and ethical implications. We will also seek feedback from our peers and instructors on our project report and presentation, and address any questions or concerns they may have.\n",
    "\n",
    "To handle any issues we identified, we will document them clearly and transparently in our project report and presentation, and acknowledge the limitations and uncertainties of our analysis. We will also suggest ways to improve the data quality and reliability in future research, and discuss the potential implications and recommendations for policy and practice based on our findings."
   ]
  },
  {
   "cell_type": "markdown",
   "metadata": {},
   "source": [
    "# Team Expectations "
   ]
  },
  {
   "attachments": {},
   "cell_type": "markdown",
   "metadata": {},
   "source": [
    "\n",
    "By including each member’s name above and by adding their name to the submission, you are indicating that you have read the COGS108 Team Policies, accept your team’s expectations below, and have every intention to fulfill them. These expectations are for your team’s use and benefit — they won’t be graded for their details.\n",
    "\n",
    "* Our team expects to have a meeting every Sunday on Zoom to update and divide individual tasks for team members\n",
    "* Our team expects to communicate regularly and respectfully via Discord, and respond to messages within 24 hours.\n",
    "* Our team expects to complete the assigned tasks on time and with high quality, and notify the team in advance if there are any difficulties or delays.\n",
    "* Our team expects to share the work load fairly and evenly, and offer help and feedback to each other when needed.\n",
    "* Our team expects to respect each other's opinions and ideas, and resolve any conflicts or disagreements constructively and diplomatically.\n",
    "* Our team expects to adhere to the COGS108 Team Policies and academic integrity standards, and acknowledge each other's contributions in the project submission."
   ]
  },
  {
   "cell_type": "markdown",
   "metadata": {},
   "source": [
    "# Project Timeline Proposal"
   ]
  },
  {
   "attachments": {},
   "cell_type": "markdown",
   "metadata": {},
   "source": [
    "Specify your team's specific project timeline. An example timeline has been provided. Changes the dates, times, names, and details to fit your group's plan.\n",
    "\n",
    "If you think you will need any special resources or training outside what we have covered in COGS 108 to solve your problem, then your proposal should state these clearly. For example, if you have selected a problem that involves implementing multiple neural networks, please state this so we can make sure you know what you’re doing and so we can point you to resources you will need to implement your project. Note that you are not required to use outside methods.\n",
    "\n",
    "| Meeting Date | Meeting Time | Completed Before Meeting | Discuss at Meeting |\n",
    "| ------------ | ------------ | ------------------------ | ------------------ |\n",
    "| 4/30         | 12 PM        | Read & Think about COGS 108 expectations; brainstorm topics/questions | Determine best form of communication; Discuss and decide on final project topic; discuss hypothesis; begin background research |\n",
    "| 5/7          | 10 AM        | Do background research on topic; find relevant sources and datasets | Discuss ideal dataset(s) and ethics; draft project proposal |\n",
    "| 5/14         | 10 AM        | Edit, finalize, and submit proposal; Search for more datasets if needed | Discuss Wrangling and possible analytical approaches; Assign group members to lead each specific part |\n",
    "| 5/14         | 6 PM         | Import & Wrangle Data (Anh Vuong); EDA (Anh Bach) | Review/Edit wrangling/EDA; Discuss Analysis Plan |\n",
    "| 5/21         | 12 PM        | Finalize wrangling/EDA; Begin Analysis (Anh Pham; Huy Nguyen) | Discuss/edit Analysis; Complete project check-in |\n",
    "| 5/28         | 12 PM        | Complete analysis; Draft results/conclusion/discussion (Anh Vuong) | Discuss/edit full project |\n",
    "| 6/4          | Before 11:59 PM | NA                       | Turn in Final Project & Group Project Surveys |"
   ]
  },
  {
   "cell_type": "code",
   "execution_count": null,
   "metadata": {},
   "outputs": [],
   "source": []
  }
 ],
 "metadata": {
  "kernelspec": {
   "display_name": "Python 3",
   "language": "python",
   "name": "python3"
  },
  "language_info": {
   "codemirror_mode": {
    "name": "ipython",
    "version": 3
   },
   "file_extension": ".py",
   "mimetype": "text/x-python",
   "name": "python",
   "nbconvert_exporter": "python",
   "pygments_lexer": "ipython3",
   "version": "3.9.6"
  }
 },
 "nbformat": 4,
 "nbformat_minor": 2
}
